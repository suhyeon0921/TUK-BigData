{
  "cells": [
    {
      "cell_type": "code",
      "execution_count": null,
      "metadata": {
        "colab": {
          "base_uri": "https://localhost:8080/"
        },
        "id": "ST2celRxzmLh",
        "outputId": "bc970221-a96a-4492-c968-1ac9afffb999"
      },
      "outputs": [
        {
          "name": "stdout",
          "output_type": "stream",
          "text": [
            "Collecting pymysql\n",
            "  Downloading PyMySQL-1.1.0-py3-none-any.whl (44 kB)\n",
            "\u001b[?25l     \u001b[90m━━━━━━━━━━━━━━━━━━━━━━━━━━━━━━━━━━━━━━━━\u001b[0m \u001b[32m0.0/44.8 kB\u001b[0m \u001b[31m?\u001b[0m eta \u001b[36m-:--:--\u001b[0m\r\u001b[2K     \u001b[90m━━━━━━━━━━━━━━━━━━━━━━━━━━━━━━━━━━━━━━━━\u001b[0m \u001b[32m44.8/44.8 kB\u001b[0m \u001b[31m1.4 MB/s\u001b[0m eta \u001b[36m0:00:00\u001b[0m\n",
            "\u001b[?25hInstalling collected packages: pymysql\n",
            "Successfully installed pymysql-1.1.0\n"
          ]
        }
      ],
      "source": [
        "!pip install pymysql"
      ]
    },
    {
      "cell_type": "code",
      "execution_count": null,
      "metadata": {
        "colab": {
          "base_uri": "https://localhost:8080/"
        },
        "id": "_u3a6mYn5msT",
        "outputId": "053399af-b2d7-45cc-904c-80afa2946787"
      },
      "outputs": [
        {
          "name": "stderr",
          "output_type": "stream",
          "text": [
            "<ipython-input-2-d921e428c00d>:30: UserWarning: pandas only supports SQLAlchemy connectable (engine/connection) or database string URI or sqlite3 DBAPI2 connection. Other DBAPI2 objects are not tested. Please consider using SQLAlchemy.\n",
            "  df = pd.read_sql_query(sql_query, connection)\n"
          ]
        },
        {
          "name": "stdout",
          "output_type": "stream",
          "text": [
            "   cust_id cust_nm  구매일수     최초구매일     최근구매일   간격  사용구매주기\n",
            "0     3806     최지후    49  20230630  20220707  358  7.3061\n",
            "1     4211     김영미    55  20230621  20220705  351  6.3818\n",
            "2     4285     박영숙    59  20230627  20220712  350  5.9322\n",
            "3     4290     장중수    71  20230624  20220703  356  5.0141\n",
            "4     4375     박준혁    60  20230629  20220710  354  5.9000\n",
            "5     4480     이진우    51  20230618  20220706  347  6.8039\n",
            "6     4803     김서준    40  20230627  20220715  347  8.6750\n",
            "7     4833     김민준    64  20230630  20220710  355  5.5469\n",
            "8     4897     박보람    42  20230629  20220713  351  8.3571\n",
            "9     4989     장정희    56  20230627  20220702  360  6.4286\n",
            "10    5331     이준혁    42  20230629  20220731  333  7.9286\n",
            "11    5390     백종수    54  20230625  20220706  354  6.5556\n",
            "12    5536     김미숙    52  20230621  20220711  345  6.6346\n",
            "13    5633     김종수    64  20230625  20220723  337  5.2656\n",
            "14    5838     오지혜    65  20230619  20220707  347  5.3385\n",
            "15    6056     이보람    44  20230622  20220703  354  8.0455\n",
            "16    6057     김하윤    52  20230614  20220724  325  6.2500\n",
            "17    6225     박민지    66  20230630  20220705  360  5.4545\n",
            "18    6258     황지후    49  20230621  20220713  343  7.0000\n",
            "19    6887     박미정    54  20230630  20220706  359  6.6481\n",
            "20    6927     백현우    63  20230629  20220710  354  5.6190\n",
            "21    7445     홍숙자    57  20230619  20220710  344  6.0351\n",
            "22    7481     김아름    62  20230623  20220709  349  5.6290\n",
            "23    8735     이성호    40  20230623  20220716  342  8.5500\n",
            "24    9111     박중수    57  20230630  20220708  357  6.2632\n",
            "25    9392     안하은    67  20230629  20220708  356  5.3134\n",
            "26    9539     김지훈    49  20230629  20220706  358  7.3061\n",
            "27    9851     김수민    57  20230630  20220704  361  6.3333\n"
          ]
        }
      ],
      "source": [
        "import pandas as pd\n",
        "import pymysql  # MySQL을 사용하는 경우, pymysql 라이브러리를 설치해야 합니다.\n",
        "\n",
        "# 데이터베이스 연결 설정\n",
        "connection = pymysql.connect(\n",
        "    # user, password, host, database 정보 입력\n",
        ")\n",
        "\n",
        "# SQL 쿼리 실행\n",
        "sql_query = \"select cust_id,cust_nm,\\\n",
        "                    count( distinct sales_dt ) as 구매일수, \\\n",
        "                    max(sales_dt) as 최초구매일, \\\n",
        "                    min(sales_dt) as 최근구매일, \\\n",
        "                    datediff(MAX(STR_TO_DATE(sales_dt, '%Y%m%d')) , MIN(STR_TO_DATE(sales_dt, '%Y%m%d'))) AS 간격, \\\n",
        "                    (case when count( distinct sales_dt ) <=1 then 0 else  datediff(MAX(STR_TO_DATE(sales_dt, '%Y%m%d')) , MIN(STR_TO_DATE(sales_dt, '%Y%m%d')))  / count( distinct sales_dt ) end) as 사용구매주기 \\\n",
        "              from cust_sales \\\n",
        "            group by cust_id;\"\n",
        "df = pd.read_sql_query(sql_query, connection)\n",
        "\n",
        "# 데이터프레임 출력 또는 활용\n",
        "print(df)\n",
        "\n",
        "# 연결 닫기\n",
        "connection.close()\n"
      ]
    },
    {
      "cell_type": "code",
      "execution_count": null,
      "metadata": {
        "colab": {
          "base_uri": "https://localhost:8080/"
        },
        "id": "CU6oRRwz4Yz-",
        "outputId": "7a281db6-4435-49c5-bdb6-99adff12a214"
      },
      "outputs": [
        {
          "name": "stdout",
          "output_type": "stream",
          "text": [
            "geopandas                        0.13.2\n",
            "pandas                           2.1.3\n",
            "pandas-datareader                0.10.0\n",
            "pandas-gbq                       0.17.9\n",
            "pandas-stubs                     1.5.3.230304\n",
            "sklearn-pandas                   2.2.0\n",
            "mysql-connector-python           8.2.0\n"
          ]
        }
      ],
      "source": [
        "!pip list | grep pandas\n",
        "!pip list | grep mysql-connector-python"
      ]
    },
    {
      "cell_type": "code",
      "execution_count": null,
      "metadata": {
        "colab": {
          "base_uri": "https://localhost:8080/"
        },
        "id": "uetZhnlM3aP_",
        "outputId": "0a9b3dd7-b6cf-4cd8-fb8b-2fe725193f41"
      },
      "outputs": [
        {
          "name": "stdout",
          "output_type": "stream",
          "text": [
            "Found existing installation: pandas 2.1.3\n",
            "Uninstalling pandas-2.1.3:\n",
            "  Would remove:\n",
            "    /usr/local/lib/python3.10/dist-packages/pandas-2.1.3.dist-info/*\n",
            "    /usr/local/lib/python3.10/dist-packages/pandas/*\n",
            "Proceed (Y/n)? Y\n",
            "  Successfully uninstalled pandas-2.1.3\n",
            "Found existing installation: mysql-connector-python 8.2.0\n",
            "Uninstalling mysql-connector-python-8.2.0:\n",
            "  Would remove:\n",
            "    /usr/local/lib/python3.10/dist-packages/_mysql_connector.cpython-310-x86_64-linux-gnu.so\n",
            "    /usr/local/lib/python3.10/dist-packages/_mysqlxpb.cpython-310-x86_64-linux-gnu.so\n",
            "    /usr/local/lib/python3.10/dist-packages/mysql/*\n",
            "    /usr/local/lib/python3.10/dist-packages/mysql_connector_python-8.2.0.dist-info/*\n",
            "    /usr/local/lib/python3.10/dist-packages/mysqlx/*\n",
            "Proceed (Y/n)? Y\n",
            "  Successfully uninstalled mysql-connector-python-8.2.0\n"
          ]
        }
      ],
      "source": [
        "!pip uninstall pandas\n",
        "!!pip uninstall mysql-connector-python"
      ]
    },
    {
      "cell_type": "code",
      "execution_count": null,
      "metadata": {
        "colab": {
          "base_uri": "https://localhost:8080/",
          "height": 446
        },
        "id": "l5W0MfKX4460",
        "outputId": "333c84e4-ac69-4c73-fc8b-be6c52fc74b6"
      },
      "outputs": [
        {
          "name": "stdout",
          "output_type": "stream",
          "text": [
            "Collecting pandas\n",
            "  Using cached pandas-2.1.3-cp310-cp310-manylinux_2_17_x86_64.manylinux2014_x86_64.whl (12.3 MB)\n",
            "Collecting mysql-connector-python\n",
            "  Using cached mysql_connector_python-8.2.0-cp310-cp310-manylinux_2_17_x86_64.whl (31.6 MB)\n",
            "Requirement already satisfied: numpy<2,>=1.22.4 in /usr/local/lib/python3.10/dist-packages (from pandas) (1.23.5)\n",
            "Requirement already satisfied: python-dateutil>=2.8.2 in /usr/local/lib/python3.10/dist-packages (from pandas) (2.8.2)\n",
            "Requirement already satisfied: pytz>=2020.1 in /usr/local/lib/python3.10/dist-packages (from pandas) (2023.3.post1)\n",
            "Requirement already satisfied: tzdata>=2022.1 in /usr/local/lib/python3.10/dist-packages (from pandas) (2023.3)\n",
            "Requirement already satisfied: protobuf<=4.21.12,>=4.21.1 in /usr/local/lib/python3.10/dist-packages (from mysql-connector-python) (4.21.12)\n",
            "Requirement already satisfied: six>=1.5 in /usr/local/lib/python3.10/dist-packages (from python-dateutil>=2.8.2->pandas) (1.16.0)\n",
            "Installing collected packages: mysql-connector-python, pandas\n",
            "\u001b[31mERROR: pip's dependency resolver does not currently take into account all the packages that are installed. This behaviour is the source of the following dependency conflicts.\n",
            "lida 0.0.10 requires fastapi, which is not installed.\n",
            "lida 0.0.10 requires kaleido, which is not installed.\n",
            "lida 0.0.10 requires python-multipart, which is not installed.\n",
            "lida 0.0.10 requires uvicorn, which is not installed.\n",
            "google-colab 1.0.0 requires pandas==1.5.3, but you have pandas 2.1.3 which is incompatible.\u001b[0m\u001b[31m\n",
            "\u001b[0mSuccessfully installed mysql-connector-python-8.2.0 pandas-2.1.3\n"
          ]
        },
        {
          "data": {
            "application/vnd.colab-display-data+json": {
              "pip_warning": {
                "packages": [
                  "_mysql_connector",
                  "mysql"
                ]
              }
            }
          },
          "metadata": {},
          "output_type": "display_data"
        }
      ],
      "source": [
        "!pip install --upgrade pandas mysql-connector-python"
      ]
    },
    {
      "cell_type": "code",
      "execution_count": null,
      "metadata": {
        "id": "_5Ag0RIm5QC_"
      },
      "outputs": [],
      "source": [
        "import os\n",
        "os.kill(os.getpid(), 9)"
      ]
    },
    {
      "cell_type": "code",
      "execution_count": null,
      "metadata": {
        "colab": {
          "base_uri": "https://localhost:8080/"
        },
        "id": "UEmBi7qUzOXW",
        "outputId": "549bd22a-7465-429c-84ab-53be21a39895"
      },
      "outputs": [
        {
          "name": "stdout",
          "output_type": "stream",
          "text": [
            "   cust_id cust_nm  구매일수     최초구매일     최근구매일   간격  사용구매주기\n",
            "0     3806     최지후    49  20230630  20220707  358  7.3061\n",
            "1     4211     김영미    55  20230621  20220705  351  6.3818\n",
            "2     4285     박영숙    59  20230627  20220712  350  5.9322\n",
            "3     4290     장중수    71  20230624  20220703  356  5.0141\n",
            "4     4375     박준혁    60  20230629  20220710  354  5.9000\n",
            "5     4480     이진우    51  20230618  20220706  347  6.8039\n",
            "6     4803     김서준    40  20230627  20220715  347  8.6750\n",
            "7     4833     김민준    64  20230630  20220710  355  5.5469\n",
            "8     4897     박보람    42  20230629  20220713  351  8.3571\n",
            "9     4989     장정희    56  20230627  20220702  360  6.4286\n",
            "10    5331     이준혁    42  20230629  20220731  333  7.9286\n",
            "11    5390     백종수    54  20230625  20220706  354  6.5556\n",
            "12    5536     김미숙    52  20230621  20220711  345  6.6346\n",
            "13    5633     김종수    64  20230625  20220723  337  5.2656\n",
            "14    5838     오지혜    65  20230619  20220707  347  5.3385\n",
            "15    6056     이보람    44  20230622  20220703  354  8.0455\n",
            "16    6057     김하윤    52  20230614  20220724  325  6.2500\n",
            "17    6225     박민지    66  20230630  20220705  360  5.4545\n",
            "18    6258     황지후    49  20230621  20220713  343  7.0000\n",
            "19    6887     박미정    54  20230630  20220706  359  6.6481\n",
            "20    6927     백현우    63  20230629  20220710  354  5.6190\n",
            "21    7445     홍숙자    57  20230619  20220710  344  6.0351\n",
            "22    7481     김아름    62  20230623  20220709  349  5.6290\n",
            "23    8735     이성호    40  20230623  20220716  342  8.5500\n",
            "24    9111     박중수    57  20230630  20220708  357  6.2632\n",
            "25    9392     안하은    67  20230629  20220708  356  5.3134\n",
            "26    9539     김지훈    49  20230629  20220706  358  7.3061\n",
            "27    9851     김수민    57  20230630  20220704  361  6.3333\n"
          ]
        }
      ],
      "source": [
        "import pandas as pd\n",
        "from sqlalchemy import create_engine\n",
        "\n",
        "# MySQL 연결 정보 설정\n",
        "db_config = {\n",
        "    # user, password, host, database 정보 입력\n",
        "}\n",
        "\n",
        "# SQLAlchemy 연결 설정\n",
        "engine = create_engine(f\"mysql+mysqlconnector://{db_config['user']}:{db_config['password']}@{db_config['host']}/{db_config['database']}\")\n",
        "\n",
        "\n",
        "# SQL 쿼리 실행\n",
        "sql_query = \"select cust_id,cust_nm,\\\n",
        "                    count( distinct sales_dt ) as 구매일수, \\\n",
        "                    max(sales_dt) as 최초구매일, \\\n",
        "                    min(sales_dt) as 최근구매일, \\\n",
        "                    datediff(MAX(STR_TO_DATE(sales_dt, '%Y%m%d')) , MIN(STR_TO_DATE(sales_dt, '%Y%m%d'))) AS 간격, \\\n",
        "                    (case when count( distinct sales_dt ) <=1 then 0 else  datediff(MAX(STR_TO_DATE(sales_dt, '%Y%m%d')) , MIN(STR_TO_DATE(sales_dt, '%Y%m%d')))  / count( distinct sales_dt ) end) as 사용구매주기 \\\n",
        "              from cust_sales \\\n",
        "            group by cust_id;\"\n",
        "# df = pd.read_sql_query(sql_query, connection)\n",
        "\n",
        "# pandas의 read_sql_query 함수 사용\n",
        "df = pd.read_sql_query(sql_query, con=engine)\n",
        "\n",
        "# 데이터프레임 출력 또는 활용\n",
        "print(df)\n",
        "\n",
        "# # 연결 닫기\n",
        "# connection.close()\n"
      ]
    }
  ],
  "metadata": {
    "colab": {
      "provenance": []
    },
    "kernelspec": {
      "display_name": "Python 3",
      "name": "python3"
    },
    "language_info": {
      "name": "python"
    }
  },
  "nbformat": 4,
  "nbformat_minor": 0
}
